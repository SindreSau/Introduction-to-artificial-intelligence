{
 "cells": [
  {
   "cell_type": "code",
   "execution_count": 80,
   "id": "initial_id",
   "metadata": {
    "collapsed": true,
    "ExecuteTime": {
     "end_time": "2023-09-29T07:18:19.162053Z",
     "start_time": "2023-09-29T07:18:19.149990Z"
    }
   },
   "outputs": [],
   "source": [
    "from faker import Faker\n",
    "import pandas as pd"
   ]
  },
  {
   "cell_type": "code",
   "execution_count": 81,
   "outputs": [
    {
     "name": "stdout",
     "output_type": "stream",
     "text": [
      "<class 'pandas.core.frame.DataFrame'>\n",
      "RangeIndex: 0 entries\n",
      "Data columns (total 5 columns):\n",
      " #   Column      Non-Null Count  Dtype \n",
      "---  ------      --------------  ----- \n",
      " 0   Navn        0 non-null      object\n",
      " 1   Adresse     0 non-null      object\n",
      " 2   PersonNr    0 non-null      object\n",
      " 3   CreditCard  0 non-null      object\n",
      " 4   ipv4        0 non-null      object\n",
      "dtypes: object(5)\n",
      "memory usage: 124.0+ bytes\n"
     ]
    }
   ],
   "source": [
    "df = pd.DataFrame(columns=['Navn', 'Adresse', 'PersonNr', 'CreditCard', 'ipv4'])\n",
    "df.info()"
   ],
   "metadata": {
    "collapsed": false,
    "ExecuteTime": {
     "end_time": "2023-09-29T07:18:19.162290Z",
     "start_time": "2023-09-29T07:18:19.157873Z"
    }
   },
   "id": "5f68ee199e15bb54"
  },
  {
   "cell_type": "code",
   "execution_count": 82,
   "outputs": [],
   "source": [
    "f = Faker('no_NO')"
   ],
   "metadata": {
    "collapsed": false,
    "ExecuteTime": {
     "end_time": "2023-09-29T07:18:19.183278Z",
     "start_time": "2023-09-29T07:18:19.160004Z"
    }
   },
   "id": "ab92ac96b28788e5"
  },
  {
   "cell_type": "code",
   "execution_count": 83,
   "outputs": [],
   "source": [
    "# for i in range (100):\n",
    "#     df.at[i, 'Navn'] = f.name()\n",
    "#     df.at[i, 'Adresse'] = f.address()\n",
    "#     df.at[i, 'PersonNr'] = f.ssn()\n",
    "#     df.at[i, 'CreditCard'] = f.credit_card_number()\n",
    "#     df.at[i, 'ipv4'] = f.ipv4()\n",
    "# \n",
    "# df    "
   ],
   "metadata": {
    "collapsed": false,
    "ExecuteTime": {
     "end_time": "2023-09-29T07:18:19.201683Z",
     "start_time": "2023-09-29T07:18:19.183179Z"
    }
   },
   "id": "ed811869e5de4280"
  },
  {
   "cell_type": "code",
   "execution_count": 84,
   "outputs": [
    {
     "data": {
      "text/plain": "                    Navn                           Adresse     PersonNr  \\\n0            Hanna Aasen          Eidefaret 86, 6899 Olsen  03078227957   \n1        Petter Antonsen    Fredriksenholtet 8, 7268 Tveit  14127503509   \n2            Turid Strøm       Eidefaret 21D, 4845 Johnsen  28110066416   \n3         Rune Gundersen        Nielsengata 5, 3472 Jensen  05119511676   \n4   Gunn-Grethe Svendsen  Rasmussenplassen 8A, 8533 Nguyen  08058037126   \n..                   ...                               ...          ...   \n95          Hilde Nguyen    Tangenvollen 5, 3930 Marifjord  12038526330   \n96         Håkon Evensen         Larseneggen 3, 3189 Tveit  27044640207   \n97       Magne Halvorsen       Aasengrenda 2C, 7922 Brekke  18070472976   \n98             Pål Hauge    Jensenjordet 5B, 3394 Lailavik  18025020878   \n99         Ida-Janne Ali            Lieåsen 9C, 9481 Olsen  21109422336   \n\n             CreditCard             ipv4  \n0          675987460275     58.63.91.216  \n1      2713572448236416   39.165.117.232  \n2        36899161721611    170.77.67.242  \n3   4292466164543510945  172.117.241.148  \n4        30335746327083     148.228.46.6  \n..                  ...              ...  \n95  4421399886946737868   148.121.21.185  \n96      180065429018885   170.82.250.140  \n97      346671252932042    37.169.136.17  \n98     6577728618950782      5.222.1.234  \n99     3564839055349941     18.34.155.63  \n\n[100 rows x 5 columns]",
      "text/html": "<div>\n<style scoped>\n    .dataframe tbody tr th:only-of-type {\n        vertical-align: middle;\n    }\n\n    .dataframe tbody tr th {\n        vertical-align: top;\n    }\n\n    .dataframe thead th {\n        text-align: right;\n    }\n</style>\n<table border=\"1\" class=\"dataframe\">\n  <thead>\n    <tr style=\"text-align: right;\">\n      <th></th>\n      <th>Navn</th>\n      <th>Adresse</th>\n      <th>PersonNr</th>\n      <th>CreditCard</th>\n      <th>ipv4</th>\n    </tr>\n  </thead>\n  <tbody>\n    <tr>\n      <th>0</th>\n      <td>Hanna Aasen</td>\n      <td>Eidefaret 86, 6899 Olsen</td>\n      <td>03078227957</td>\n      <td>675987460275</td>\n      <td>58.63.91.216</td>\n    </tr>\n    <tr>\n      <th>1</th>\n      <td>Petter Antonsen</td>\n      <td>Fredriksenholtet 8, 7268 Tveit</td>\n      <td>14127503509</td>\n      <td>2713572448236416</td>\n      <td>39.165.117.232</td>\n    </tr>\n    <tr>\n      <th>2</th>\n      <td>Turid Strøm</td>\n      <td>Eidefaret 21D, 4845 Johnsen</td>\n      <td>28110066416</td>\n      <td>36899161721611</td>\n      <td>170.77.67.242</td>\n    </tr>\n    <tr>\n      <th>3</th>\n      <td>Rune Gundersen</td>\n      <td>Nielsengata 5, 3472 Jensen</td>\n      <td>05119511676</td>\n      <td>4292466164543510945</td>\n      <td>172.117.241.148</td>\n    </tr>\n    <tr>\n      <th>4</th>\n      <td>Gunn-Grethe Svendsen</td>\n      <td>Rasmussenplassen 8A, 8533 Nguyen</td>\n      <td>08058037126</td>\n      <td>30335746327083</td>\n      <td>148.228.46.6</td>\n    </tr>\n    <tr>\n      <th>...</th>\n      <td>...</td>\n      <td>...</td>\n      <td>...</td>\n      <td>...</td>\n      <td>...</td>\n    </tr>\n    <tr>\n      <th>95</th>\n      <td>Hilde Nguyen</td>\n      <td>Tangenvollen 5, 3930 Marifjord</td>\n      <td>12038526330</td>\n      <td>4421399886946737868</td>\n      <td>148.121.21.185</td>\n    </tr>\n    <tr>\n      <th>96</th>\n      <td>Håkon Evensen</td>\n      <td>Larseneggen 3, 3189 Tveit</td>\n      <td>27044640207</td>\n      <td>180065429018885</td>\n      <td>170.82.250.140</td>\n    </tr>\n    <tr>\n      <th>97</th>\n      <td>Magne Halvorsen</td>\n      <td>Aasengrenda 2C, 7922 Brekke</td>\n      <td>18070472976</td>\n      <td>346671252932042</td>\n      <td>37.169.136.17</td>\n    </tr>\n    <tr>\n      <th>98</th>\n      <td>Pål Hauge</td>\n      <td>Jensenjordet 5B, 3394 Lailavik</td>\n      <td>18025020878</td>\n      <td>6577728618950782</td>\n      <td>5.222.1.234</td>\n    </tr>\n    <tr>\n      <th>99</th>\n      <td>Ida-Janne Ali</td>\n      <td>Lieåsen 9C, 9481 Olsen</td>\n      <td>21109422336</td>\n      <td>3564839055349941</td>\n      <td>18.34.155.63</td>\n    </tr>\n  </tbody>\n</table>\n<p>100 rows × 5 columns</p>\n</div>"
     },
     "execution_count": 84,
     "metadata": {},
     "output_type": "execute_result"
    }
   ],
   "source": [
    "for i in range(100):\n",
    "    df.loc[i] = [f.name(), f.address(), f.ssn(), f.credit_card_number(), f.ipv4()]\n",
    "\n",
    "df"
   ],
   "metadata": {
    "collapsed": false,
    "ExecuteTime": {
     "end_time": "2023-09-29T07:18:19.250592Z",
     "start_time": "2023-09-29T07:18:19.192970Z"
    }
   },
   "id": "22240faafb18ecdc"
  },
  {
   "cell_type": "code",
   "execution_count": 85,
   "outputs": [],
   "source": [
    "# df.drop(columns=['Navn', 'Adresse'])\n",
    "# \n",
    "# df"
   ],
   "metadata": {
    "collapsed": false,
    "ExecuteTime": {
     "end_time": "2023-09-29T07:18:19.250731Z",
     "start_time": "2023-09-29T07:18:19.245294Z"
    }
   },
   "id": "152ffa62f446a72a"
  },
  {
   "cell_type": "code",
   "execution_count": 85,
   "outputs": [],
   "source": [],
   "metadata": {
    "collapsed": false,
    "ExecuteTime": {
     "end_time": "2023-09-29T07:18:19.250774Z",
     "start_time": "2023-09-29T07:18:19.247601Z"
    }
   },
   "id": "4532185ce723ab76"
  }
 ],
 "metadata": {
  "kernelspec": {
   "display_name": "Python 3",
   "language": "python",
   "name": "python3"
  },
  "language_info": {
   "codemirror_mode": {
    "name": "ipython",
    "version": 2
   },
   "file_extension": ".py",
   "mimetype": "text/x-python",
   "name": "python",
   "nbconvert_exporter": "python",
   "pygments_lexer": "ipython2",
   "version": "2.7.6"
  }
 },
 "nbformat": 4,
 "nbformat_minor": 5
}
