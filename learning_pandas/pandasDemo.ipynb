{
 "cells": [
  {
   "cell_type": "code",
   "execution_count": 1,
   "id": "initial_id",
   "metadata": {
    "collapsed": true,
    "ExecuteTime": {
     "end_time": "2023-09-28T09:40:42.763466Z",
     "start_time": "2023-09-28T09:40:42.456595Z"
    }
   },
   "outputs": [],
   "source": [
    "import pandas as pd"
   ]
  },
  {
   "cell_type": "code",
   "execution_count": 2,
   "outputs": [],
   "source": [
    "df = pd.read_csv('data/survey_results_public.csv')"
   ],
   "metadata": {
    "collapsed": false,
    "ExecuteTime": {
     "end_time": "2023-09-28T09:40:55.291823Z",
     "start_time": "2023-09-28T09:40:53.961426Z"
    }
   },
   "id": "719b06e95cfd3e49"
  },
  {
   "cell_type": "code",
   "execution_count": 9,
   "outputs": [
    {
     "data": {
      "text/plain": "       Respondent                                         MainBranch Hobbyist  \\\n0               1             I am a student who is learning to code      Yes   \n1               2             I am a student who is learning to code       No   \n2               3  I am not primarily a developer, but I write co...      Yes   \n3               4                     I am a developer by profession       No   \n4               5                     I am a developer by profession      Yes   \n...           ...                                                ...      ...   \n88878       88377                                                NaN      Yes   \n88879       88601                                                NaN       No   \n88880       88802                                                NaN       No   \n88881       88816                                                NaN       No   \n88882       88863                                                NaN      Yes   \n\n                                             OpenSourcer  \\\n0                                                  Never   \n1                                Less than once per year   \n2                                                  Never   \n3                                                  Never   \n4                             Once a month or more often   \n...                                                  ...   \n88878  Less than once a month but more than once per ...   \n88879                                              Never   \n88880                                              Never   \n88881                                              Never   \n88882                            Less than once per year   \n\n                                              OpenSource  \\\n0      The quality of OSS and closed source software ...   \n1      The quality of OSS and closed source software ...   \n2      The quality of OSS and closed source software ...   \n3      The quality of OSS and closed source software ...   \n4      OSS is, on average, of HIGHER quality than pro...   \n...                                                  ...   \n88878  The quality of OSS and closed source software ...   \n88879  The quality of OSS and closed source software ...   \n88880                                                NaN   \n88881  OSS is, on average, of HIGHER quality than pro...   \n88882  OSS is, on average, of HIGHER quality than pro...   \n\n                                              Employment  \\\n0                 Not employed, and not looking for work   \n1                     Not employed, but looking for work   \n2                                     Employed full-time   \n3                                     Employed full-time   \n4                                     Employed full-time   \n...                                                  ...   \n88878             Not employed, and not looking for work   \n88879                                                NaN   \n88880                                 Employed full-time   \n88881  Independent contractor, freelancer, or self-em...   \n88882             Not employed, and not looking for work   \n\n                      Country         Student  \\\n0              United Kingdom              No   \n1      Bosnia and Herzegovina  Yes, full-time   \n2                    Thailand              No   \n3               United States              No   \n4                     Ukraine              No   \n...                       ...             ...   \n88878                  Canada              No   \n88879                     NaN             NaN   \n88880                     NaN             NaN   \n88881                     NaN             NaN   \n88882                   Spain  Yes, full-time   \n\n                                                 EdLevel  \\\n0                              Primary/elementary school   \n1      Secondary school (e.g. American high school, G...   \n2               Bachelor’s degree (BA, BS, B.Eng., etc.)   \n3               Bachelor’s degree (BA, BS, B.Eng., etc.)   \n4               Bachelor’s degree (BA, BS, B.Eng., etc.)   \n...                                                  ...   \n88878                          Primary/elementary school   \n88879                                                NaN   \n88880                                                NaN   \n88881                                                NaN   \n88882                 Professional degree (JD, MD, etc.)   \n\n                                          UndergradMajor  ...  \\\n0                                                    NaN  ...   \n1                                                    NaN  ...   \n2                          Web development or web design  ...   \n3      Computer science, computer engineering, or sof...  ...   \n4      Computer science, computer engineering, or sof...  ...   \n...                                                  ...  ...   \n88878                                                NaN  ...   \n88879                                                NaN  ...   \n88880                                                NaN  ...   \n88881                                                NaN  ...   \n88882  Computer science, computer engineering, or sof...  ...   \n\n                                  WelcomeChange  \\\n0       Just as welcome now as I felt last year   \n1       Just as welcome now as I felt last year   \n2       Just as welcome now as I felt last year   \n3       Just as welcome now as I felt last year   \n4       Just as welcome now as I felt last year   \n...                                         ...   \n88878                                       NaN   \n88879                                       NaN   \n88880                                       NaN   \n88881                                       NaN   \n88882  Somewhat less welcome now than last year   \n\n                                            SONewContent   Age Gender Trans  \\\n0      Tech articles written by other developers;Indu...  14.0    Man    No   \n1      Tech articles written by other developers;Indu...  19.0    Man    No   \n2      Tech meetups or events in your area;Courses on...  28.0    Man    No   \n3      Tech articles written by other developers;Indu...  22.0    Man    No   \n4      Tech meetups or events in your area;Courses on...  30.0    Man    No   \n...                                                  ...   ...    ...   ...   \n88878  Tech articles written by other developers;Tech...   NaN    Man    No   \n88879                                                NaN   NaN    NaN   NaN   \n88880                                                NaN   NaN    NaN   NaN   \n88881                                                NaN   NaN    NaN   NaN   \n88882  Tech articles written by other developers;Indu...  18.0    Man    No   \n\n                     Sexuality  \\\n0      Straight / Heterosexual   \n1      Straight / Heterosexual   \n2      Straight / Heterosexual   \n3      Straight / Heterosexual   \n4      Straight / Heterosexual   \n...                        ...   \n88878                      NaN   \n88879                      NaN   \n88880                      NaN   \n88881                      NaN   \n88882  Straight / Heterosexual   \n\n                                               Ethnicity Dependents  \\\n0                                                    NaN         No   \n1                                                    NaN         No   \n2                                                    NaN        Yes   \n3                           White or of European descent         No   \n4               White or of European descent;Multiracial         No   \n...                                                  ...        ...   \n88878                                                NaN         No   \n88879                                                NaN        NaN   \n88880                                                NaN        NaN   \n88881                                                NaN        NaN   \n88882  Hispanic or Latino/Latina;White or of European...         No   \n\n                SurveyLength                  SurveyEase  \n0      Appropriate in length  Neither easy nor difficult  \n1      Appropriate in length  Neither easy nor difficult  \n2      Appropriate in length  Neither easy nor difficult  \n3      Appropriate in length                        Easy  \n4      Appropriate in length                        Easy  \n...                      ...                         ...  \n88878  Appropriate in length                        Easy  \n88879                    NaN                         NaN  \n88880                    NaN                         NaN  \n88881                    NaN                         NaN  \n88882  Appropriate in length                        Easy  \n\n[88883 rows x 85 columns]",
      "text/html": "<div>\n<style scoped>\n    .dataframe tbody tr th:only-of-type {\n        vertical-align: middle;\n    }\n\n    .dataframe tbody tr th {\n        vertical-align: top;\n    }\n\n    .dataframe thead th {\n        text-align: right;\n    }\n</style>\n<table border=\"1\" class=\"dataframe\">\n  <thead>\n    <tr style=\"text-align: right;\">\n      <th></th>\n      <th>Respondent</th>\n      <th>MainBranch</th>\n      <th>Hobbyist</th>\n      <th>OpenSourcer</th>\n      <th>OpenSource</th>\n      <th>Employment</th>\n      <th>Country</th>\n      <th>Student</th>\n      <th>EdLevel</th>\n      <th>UndergradMajor</th>\n      <th>...</th>\n      <th>WelcomeChange</th>\n      <th>SONewContent</th>\n      <th>Age</th>\n      <th>Gender</th>\n      <th>Trans</th>\n      <th>Sexuality</th>\n      <th>Ethnicity</th>\n      <th>Dependents</th>\n      <th>SurveyLength</th>\n      <th>SurveyEase</th>\n    </tr>\n  </thead>\n  <tbody>\n    <tr>\n      <th>0</th>\n      <td>1</td>\n      <td>I am a student who is learning to code</td>\n      <td>Yes</td>\n      <td>Never</td>\n      <td>The quality of OSS and closed source software ...</td>\n      <td>Not employed, and not looking for work</td>\n      <td>United Kingdom</td>\n      <td>No</td>\n      <td>Primary/elementary school</td>\n      <td>NaN</td>\n      <td>...</td>\n      <td>Just as welcome now as I felt last year</td>\n      <td>Tech articles written by other developers;Indu...</td>\n      <td>14.0</td>\n      <td>Man</td>\n      <td>No</td>\n      <td>Straight / Heterosexual</td>\n      <td>NaN</td>\n      <td>No</td>\n      <td>Appropriate in length</td>\n      <td>Neither easy nor difficult</td>\n    </tr>\n    <tr>\n      <th>1</th>\n      <td>2</td>\n      <td>I am a student who is learning to code</td>\n      <td>No</td>\n      <td>Less than once per year</td>\n      <td>The quality of OSS and closed source software ...</td>\n      <td>Not employed, but looking for work</td>\n      <td>Bosnia and Herzegovina</td>\n      <td>Yes, full-time</td>\n      <td>Secondary school (e.g. American high school, G...</td>\n      <td>NaN</td>\n      <td>...</td>\n      <td>Just as welcome now as I felt last year</td>\n      <td>Tech articles written by other developers;Indu...</td>\n      <td>19.0</td>\n      <td>Man</td>\n      <td>No</td>\n      <td>Straight / Heterosexual</td>\n      <td>NaN</td>\n      <td>No</td>\n      <td>Appropriate in length</td>\n      <td>Neither easy nor difficult</td>\n    </tr>\n    <tr>\n      <th>2</th>\n      <td>3</td>\n      <td>I am not primarily a developer, but I write co...</td>\n      <td>Yes</td>\n      <td>Never</td>\n      <td>The quality of OSS and closed source software ...</td>\n      <td>Employed full-time</td>\n      <td>Thailand</td>\n      <td>No</td>\n      <td>Bachelor’s degree (BA, BS, B.Eng., etc.)</td>\n      <td>Web development or web design</td>\n      <td>...</td>\n      <td>Just as welcome now as I felt last year</td>\n      <td>Tech meetups or events in your area;Courses on...</td>\n      <td>28.0</td>\n      <td>Man</td>\n      <td>No</td>\n      <td>Straight / Heterosexual</td>\n      <td>NaN</td>\n      <td>Yes</td>\n      <td>Appropriate in length</td>\n      <td>Neither easy nor difficult</td>\n    </tr>\n    <tr>\n      <th>3</th>\n      <td>4</td>\n      <td>I am a developer by profession</td>\n      <td>No</td>\n      <td>Never</td>\n      <td>The quality of OSS and closed source software ...</td>\n      <td>Employed full-time</td>\n      <td>United States</td>\n      <td>No</td>\n      <td>Bachelor’s degree (BA, BS, B.Eng., etc.)</td>\n      <td>Computer science, computer engineering, or sof...</td>\n      <td>...</td>\n      <td>Just as welcome now as I felt last year</td>\n      <td>Tech articles written by other developers;Indu...</td>\n      <td>22.0</td>\n      <td>Man</td>\n      <td>No</td>\n      <td>Straight / Heterosexual</td>\n      <td>White or of European descent</td>\n      <td>No</td>\n      <td>Appropriate in length</td>\n      <td>Easy</td>\n    </tr>\n    <tr>\n      <th>4</th>\n      <td>5</td>\n      <td>I am a developer by profession</td>\n      <td>Yes</td>\n      <td>Once a month or more often</td>\n      <td>OSS is, on average, of HIGHER quality than pro...</td>\n      <td>Employed full-time</td>\n      <td>Ukraine</td>\n      <td>No</td>\n      <td>Bachelor’s degree (BA, BS, B.Eng., etc.)</td>\n      <td>Computer science, computer engineering, or sof...</td>\n      <td>...</td>\n      <td>Just as welcome now as I felt last year</td>\n      <td>Tech meetups or events in your area;Courses on...</td>\n      <td>30.0</td>\n      <td>Man</td>\n      <td>No</td>\n      <td>Straight / Heterosexual</td>\n      <td>White or of European descent;Multiracial</td>\n      <td>No</td>\n      <td>Appropriate in length</td>\n      <td>Easy</td>\n    </tr>\n    <tr>\n      <th>...</th>\n      <td>...</td>\n      <td>...</td>\n      <td>...</td>\n      <td>...</td>\n      <td>...</td>\n      <td>...</td>\n      <td>...</td>\n      <td>...</td>\n      <td>...</td>\n      <td>...</td>\n      <td>...</td>\n      <td>...</td>\n      <td>...</td>\n      <td>...</td>\n      <td>...</td>\n      <td>...</td>\n      <td>...</td>\n      <td>...</td>\n      <td>...</td>\n      <td>...</td>\n      <td>...</td>\n    </tr>\n    <tr>\n      <th>88878</th>\n      <td>88377</td>\n      <td>NaN</td>\n      <td>Yes</td>\n      <td>Less than once a month but more than once per ...</td>\n      <td>The quality of OSS and closed source software ...</td>\n      <td>Not employed, and not looking for work</td>\n      <td>Canada</td>\n      <td>No</td>\n      <td>Primary/elementary school</td>\n      <td>NaN</td>\n      <td>...</td>\n      <td>NaN</td>\n      <td>Tech articles written by other developers;Tech...</td>\n      <td>NaN</td>\n      <td>Man</td>\n      <td>No</td>\n      <td>NaN</td>\n      <td>NaN</td>\n      <td>No</td>\n      <td>Appropriate in length</td>\n      <td>Easy</td>\n    </tr>\n    <tr>\n      <th>88879</th>\n      <td>88601</td>\n      <td>NaN</td>\n      <td>No</td>\n      <td>Never</td>\n      <td>The quality of OSS and closed source software ...</td>\n      <td>NaN</td>\n      <td>NaN</td>\n      <td>NaN</td>\n      <td>NaN</td>\n      <td>NaN</td>\n      <td>...</td>\n      <td>NaN</td>\n      <td>NaN</td>\n      <td>NaN</td>\n      <td>NaN</td>\n      <td>NaN</td>\n      <td>NaN</td>\n      <td>NaN</td>\n      <td>NaN</td>\n      <td>NaN</td>\n      <td>NaN</td>\n    </tr>\n    <tr>\n      <th>88880</th>\n      <td>88802</td>\n      <td>NaN</td>\n      <td>No</td>\n      <td>Never</td>\n      <td>NaN</td>\n      <td>Employed full-time</td>\n      <td>NaN</td>\n      <td>NaN</td>\n      <td>NaN</td>\n      <td>NaN</td>\n      <td>...</td>\n      <td>NaN</td>\n      <td>NaN</td>\n      <td>NaN</td>\n      <td>NaN</td>\n      <td>NaN</td>\n      <td>NaN</td>\n      <td>NaN</td>\n      <td>NaN</td>\n      <td>NaN</td>\n      <td>NaN</td>\n    </tr>\n    <tr>\n      <th>88881</th>\n      <td>88816</td>\n      <td>NaN</td>\n      <td>No</td>\n      <td>Never</td>\n      <td>OSS is, on average, of HIGHER quality than pro...</td>\n      <td>Independent contractor, freelancer, or self-em...</td>\n      <td>NaN</td>\n      <td>NaN</td>\n      <td>NaN</td>\n      <td>NaN</td>\n      <td>...</td>\n      <td>NaN</td>\n      <td>NaN</td>\n      <td>NaN</td>\n      <td>NaN</td>\n      <td>NaN</td>\n      <td>NaN</td>\n      <td>NaN</td>\n      <td>NaN</td>\n      <td>NaN</td>\n      <td>NaN</td>\n    </tr>\n    <tr>\n      <th>88882</th>\n      <td>88863</td>\n      <td>NaN</td>\n      <td>Yes</td>\n      <td>Less than once per year</td>\n      <td>OSS is, on average, of HIGHER quality than pro...</td>\n      <td>Not employed, and not looking for work</td>\n      <td>Spain</td>\n      <td>Yes, full-time</td>\n      <td>Professional degree (JD, MD, etc.)</td>\n      <td>Computer science, computer engineering, or sof...</td>\n      <td>...</td>\n      <td>Somewhat less welcome now than last year</td>\n      <td>Tech articles written by other developers;Indu...</td>\n      <td>18.0</td>\n      <td>Man</td>\n      <td>No</td>\n      <td>Straight / Heterosexual</td>\n      <td>Hispanic or Latino/Latina;White or of European...</td>\n      <td>No</td>\n      <td>Appropriate in length</td>\n      <td>Easy</td>\n    </tr>\n  </tbody>\n</table>\n<p>88883 rows × 85 columns</p>\n</div>"
     },
     "execution_count": 9,
     "metadata": {},
     "output_type": "execute_result"
    }
   ],
   "source": [
    "df"
   ],
   "metadata": {
    "collapsed": false,
    "ExecuteTime": {
     "end_time": "2023-09-28T09:48:22.423603Z",
     "start_time": "2023-09-28T09:48:22.349342Z"
    }
   },
   "id": "f02371165a35417"
  },
  {
   "cell_type": "code",
   "execution_count": 7,
   "outputs": [],
   "source": [
    "schema_df = pd.read_csv('data/survey_results_schema.csv')"
   ],
   "metadata": {
    "collapsed": false,
    "ExecuteTime": {
     "end_time": "2023-09-28T09:47:42.078790Z",
     "start_time": "2023-09-28T09:47:42.070593Z"
    }
   },
   "id": "5565fd120e1abaaf"
  },
  {
   "cell_type": "code",
   "execution_count": 8,
   "outputs": [
    {
     "data": {
      "text/plain": "          Column                                       QuestionText\n0     Respondent  Randomized respondent ID number (not in order ...\n1     MainBranch  Which of the following options best describes ...\n2       Hobbyist                            Do you code as a hobby?\n3    OpenSourcer        How often do you contribute to open source?\n4     OpenSource  How do you feel about the quality of open sour...\n..           ...                                                ...\n80     Sexuality  Which of the following do you currently identi...\n81     Ethnicity  Which of the following do you identify as? Ple...\n82    Dependents  Do you have any dependents (e.g., children, el...\n83  SurveyLength  How do you feel about the length of the survey...\n84    SurveyEase  How easy or difficult was this survey to compl...\n\n[85 rows x 2 columns]",
      "text/html": "<div>\n<style scoped>\n    .dataframe tbody tr th:only-of-type {\n        vertical-align: middle;\n    }\n\n    .dataframe tbody tr th {\n        vertical-align: top;\n    }\n\n    .dataframe thead th {\n        text-align: right;\n    }\n</style>\n<table border=\"1\" class=\"dataframe\">\n  <thead>\n    <tr style=\"text-align: right;\">\n      <th></th>\n      <th>Column</th>\n      <th>QuestionText</th>\n    </tr>\n  </thead>\n  <tbody>\n    <tr>\n      <th>0</th>\n      <td>Respondent</td>\n      <td>Randomized respondent ID number (not in order ...</td>\n    </tr>\n    <tr>\n      <th>1</th>\n      <td>MainBranch</td>\n      <td>Which of the following options best describes ...</td>\n    </tr>\n    <tr>\n      <th>2</th>\n      <td>Hobbyist</td>\n      <td>Do you code as a hobby?</td>\n    </tr>\n    <tr>\n      <th>3</th>\n      <td>OpenSourcer</td>\n      <td>How often do you contribute to open source?</td>\n    </tr>\n    <tr>\n      <th>4</th>\n      <td>OpenSource</td>\n      <td>How do you feel about the quality of open sour...</td>\n    </tr>\n    <tr>\n      <th>...</th>\n      <td>...</td>\n      <td>...</td>\n    </tr>\n    <tr>\n      <th>80</th>\n      <td>Sexuality</td>\n      <td>Which of the following do you currently identi...</td>\n    </tr>\n    <tr>\n      <th>81</th>\n      <td>Ethnicity</td>\n      <td>Which of the following do you identify as? Ple...</td>\n    </tr>\n    <tr>\n      <th>82</th>\n      <td>Dependents</td>\n      <td>Do you have any dependents (e.g., children, el...</td>\n    </tr>\n    <tr>\n      <th>83</th>\n      <td>SurveyLength</td>\n      <td>How do you feel about the length of the survey...</td>\n    </tr>\n    <tr>\n      <th>84</th>\n      <td>SurveyEase</td>\n      <td>How easy or difficult was this survey to compl...</td>\n    </tr>\n  </tbody>\n</table>\n<p>85 rows × 2 columns</p>\n</div>"
     },
     "execution_count": 8,
     "metadata": {},
     "output_type": "execute_result"
    }
   ],
   "source": [
    "schema_df"
   ],
   "metadata": {
    "collapsed": false,
    "ExecuteTime": {
     "end_time": "2023-09-28T09:47:51.787612Z",
     "start_time": "2023-09-28T09:47:51.776558Z"
    }
   },
   "id": "d0a0cd57083768a1"
  },
  {
   "cell_type": "code",
   "execution_count": null,
   "outputs": [],
   "source": [],
   "metadata": {
    "collapsed": false
   },
   "id": "c97aadecd05b00a1"
  }
 ],
 "metadata": {
  "kernelspec": {
   "display_name": "Python 3",
   "language": "python",
   "name": "python3"
  },
  "language_info": {
   "codemirror_mode": {
    "name": "ipython",
    "version": 2
   },
   "file_extension": ".py",
   "mimetype": "text/x-python",
   "name": "python",
   "nbconvert_exporter": "python",
   "pygments_lexer": "ipython2",
   "version": "2.7.6"
  }
 },
 "nbformat": 4,
 "nbformat_minor": 5
}
