{
 "cells": [
  {
   "cell_type": "code",
   "execution_count": 8,
   "id": "initial_id",
   "metadata": {
    "collapsed": true,
    "ExecuteTime": {
     "end_time": "2023-09-29T06:29:55.034954Z",
     "start_time": "2023-09-29T06:29:55.028522Z"
    }
   },
   "outputs": [],
   "source": [
    "import pandas as pd\n",
    "import faker as fake\n",
    "import random"
   ]
  },
  {
   "cell_type": "code",
   "execution_count": 9,
   "outputs": [],
   "source": [
    "f = fake.Faker(\"no_NO\")"
   ],
   "metadata": {
    "collapsed": false,
    "ExecuteTime": {
     "end_time": "2023-09-29T06:29:55.056383Z",
     "start_time": "2023-09-29T06:29:55.031976Z"
    }
   },
   "id": "cbde843340e13507"
  },
  {
   "cell_type": "markdown",
   "source": [
    "df = pd.DataFrame(columns=['fornavn', 'etternavn', 'adresse', 'telefonnr', 'lonn'])\n",
    "for x in range(50):\n",
    "    df.at[x, 'fornavn'] = f.first_name()\n",
    "    df.at[x, 'etternavn'] = f.last_name()\n",
    "    df.at[x, 'adresse'] = f.address()\n",
    "    df.at[x, 'telefonnr'] = f.phone_number()\n",
    "    # df.at[x, 'lonn'] = f.random()\n",
    "    \n",
    "df"
   ],
   "metadata": {
    "collapsed": false
   },
   "id": "39b7359f57f66027"
  },
  {
   "cell_type": "code",
   "execution_count": null,
   "outputs": [],
   "source": [],
   "metadata": {
    "collapsed": false
   },
   "id": "d6ca3fa33a128731"
  }
 ],
 "metadata": {
  "kernelspec": {
   "display_name": "Python 3",
   "language": "python",
   "name": "python3"
  },
  "language_info": {
   "codemirror_mode": {
    "name": "ipython",
    "version": 2
   },
   "file_extension": ".py",
   "mimetype": "text/x-python",
   "name": "python",
   "nbconvert_exporter": "python",
   "pygments_lexer": "ipython2",
   "version": "2.7.6"
  }
 },
 "nbformat": 4,
 "nbformat_minor": 5
}
